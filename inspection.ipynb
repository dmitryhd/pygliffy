{
 "cells": [
  {
   "cell_type": "code",
   "execution_count": 69,
   "metadata": {
    "collapsed": true
   },
   "outputs": [],
   "source": [
    "import json\n",
    "from pprint import pprint\n",
    "import os\n",
    "import glob\n",
    "import re\n",
    "import imp\n",
    "import sys\n",
    "import inspect"
   ]
  },
  {
   "cell_type": "code",
   "execution_count": 109,
   "metadata": {
    "collapsed": false
   },
   "outputs": [
    {
     "name": "stdout",
     "output_type": "stream",
     "text": [
      "<class '/home/dimert/NMS/nms/core/power_control.py.GlobalPowerManager'>\n",
      "<class '/home/dimert/NMS/nms/core/power_control.py.PDUController'>\n",
      "<class '/home/dimert/NMS/nms/core/power_control.py.ServerPowerManager'>\n"
     ]
    }
   ],
   "source": [
    "proj_dir = os.path.expanduser('/home/dimert/repos/vacancy_analysis/')\n",
    "\n",
    "def do_skip_dir(dirname):\n",
    "    exclude_dirs = ['ropeproject', 'tests']\n",
    "    skipdir = False\n",
    "    for excl_dir in exclude_dirs:\n",
    "        if re.search(excl_dir, dirname):\n",
    "            skipdir = True\n",
    "            break\n",
    "    return skipdir\n",
    "\n",
    "def python_files(proj_dir):\n",
    "    for dirpath, _, files in os.walk(proj_dir):\n",
    "        if do_skip_dir(dirpath):\n",
    "            continue\n",
    "        for fname in files:\n",
    "            if re.search(r'\\.py$', fname) and not re.search(r'setup\\.py', fname):\n",
    "                yield os.path.abspath(os.path.join(dirpath, fname))\n",
    "                \n",
    "def get_methods(cls):   \n",
    "  return [i for i in cls.__dict__.keys() if i[:2] != '__' and inspect.isfunction(cls.__dict__[i])]\n",
    "\n",
    "def get_attrs(cls):   \n",
    "  return [i for i in cls.__dict__.keys() if i[:2] != '__' and not inspect.isfunction(cls.__dict__[i])]\n",
    "\n",
    "def get_classes_from_file(fname):\n",
    "    classes = {}\n",
    "    try:\n",
    "        module = imp.load_source('', fname)\n",
    "    except:\n",
    "        return classes\n",
    "    for clsname, cls in inspect.getmembers(module, inspect.isclass):\n",
    "        classes[clsname] = {'attrs': get_attrs(cls), 'methods': get_methods(cls)}\n",
    "    return classes\n",
    "\n",
    "def get_classes(proj_dir):\n",
    "    sys.path.append(proj_dir)\n",
    "    all_classes = {}\n",
    "    for fname in python_files(proj_dir):\n",
    "        #print(pfile)\n",
    "        classes = get_classes_from_file(fname)\n",
    "        all_classes.update(classes)\n",
    "    from pprint import pprint\n",
    "    pprint(all_classes)\n",
    "    \n",
    "#get_classes_from_file()\n",
    "x = imp.load_source('/home/dimert/NMS/nms/core/power_control.py', '/home/dimert/NMS/nms/core/power_control.py')\n",
    "for name, obj in inspect.getmembers(x):\n",
    "    if inspect.isclass(obj):\n",
    "        if obj.__module__ == '/home/dimert/NMS/nms/core/power_control.py':\n",
    "            print(obj)"
   ]
  },
  {
   "cell_type": "code",
   "execution_count": 124,
   "metadata": {
    "collapsed": false
   },
   "outputs": [
    {
     "name": "stdout",
     "output_type": "stream",
     "text": [
      "        self.command_123 = \"\"\n",
      "\n"
     ]
    },
    {
     "data": {
      "text/plain": [
       "['command_123']"
      ]
     },
     "execution_count": 124,
     "metadata": {},
     "output_type": "execute_result"
    }
   ],
   "source": [
    "x = '        self.command_123 = \"\"\\n'\n",
    "print(x)\n",
    "par_name = re.findall(r'self\\.(.+)\\s=', x)\n",
    "par_name"
   ]
  },
  {
   "cell_type": "markdown",
   "metadata": {},
   "source": [
    " "
   ]
  }
 ],
 "metadata": {
  "kernelspec": {
   "display_name": "Python 3",
   "language": "python",
   "name": "python3"
  },
  "language_info": {
   "codemirror_mode": {
    "name": "ipython",
    "version": 3
   },
   "file_extension": ".py",
   "mimetype": "text/x-python",
   "name": "python",
   "nbconvert_exporter": "python",
   "pygments_lexer": "ipython3",
   "version": "3.4.0"
  }
 },
 "nbformat": 4,
 "nbformat_minor": 0
}
